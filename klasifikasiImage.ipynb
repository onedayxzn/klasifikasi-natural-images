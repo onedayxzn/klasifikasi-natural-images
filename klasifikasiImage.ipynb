{
  "nbformat": 4,
  "nbformat_minor": 0,
  "metadata": {
    "colab": {
      "name": "submision3.ipynb",
      "provenance": [],
      "collapsed_sections": []
    },
    "kernelspec": {
      "name": "python3",
      "display_name": "Python 3"
    },
    "language_info": {
      "name": "python"
    }
  },
  "cells": [
    {
      "cell_type": "code",
      "metadata": {
        "id": "Pc9EADLwXM29"
      },
      "source": [
        "import zipfile, os\n",
        "import tensorflow as tf\n",
        "from tensorflow.keras.preprocessing.image import ImageDataGenerator\n",
        "import matplotlib.pyplot as plt\n",
        "\n",
        "\n",
        "local_zip = '/content/Natural.zip'\n",
        "zip_ref = zipfile.ZipFile(local_zip, 'r') \n",
        "zip_ref.extractall('/content')\n",
        "zip_ref.close()"
      ],
      "execution_count": 1,
      "outputs": []
    },
    {
      "cell_type": "code",
      "metadata": {
        "id": "3G_DAsF3X46S"
      },
      "source": [
        "base_dir ='/content/data/natural_images'"
      ],
      "execution_count": 2,
      "outputs": []
    },
    {
      "cell_type": "code",
      "metadata": {
        "colab": {
          "base_uri": "https://localhost:8080/"
        },
        "id": "YeCdtUHaYFaj",
        "outputId": "e99d3a8e-7b14-4ca6-d35b-46603b3fa2dc"
      },
      "source": [
        "os.listdir('/content/data/natural_images')"
      ],
      "execution_count": 3,
      "outputs": [
        {
          "output_type": "execute_result",
          "data": {
            "text/plain": [
              "['motorbike', 'fruit', 'dog', 'airplane', 'cat', 'car', 'person', 'flower']"
            ]
          },
          "metadata": {},
          "execution_count": 3
        }
      ]
    },
    {
      "cell_type": "code",
      "metadata": {
        "colab": {
          "base_uri": "https://localhost:8080/"
        },
        "id": "N8LtqLXnYMn5",
        "outputId": "31daa490-0a3d-4abf-9be6-8c5fbc1dab6d"
      },
      "source": [
        "print('total airplane : ', len(os.listdir('/content/data/natural_images/airplane')))\n",
        "print('total car : ', len(os.listdir('/content/data/natural_images/car')))\n",
        "print('total cat : ', len(os.listdir('/content/data/natural_images/cat')))\n",
        "print('total flower : ', len(os.listdir('/content/data/natural_images/flower')))\n",
        "print('total fruit : ', len(os.listdir('/content/data/natural_images/fruit')))\n",
        "print('total motorbike : ', len(os.listdir('/content/data/natural_images/motorbike')))\n",
        "print('total person : ', len(os.listdir('/content/data/natural_images/person')))\n",
        "\n"
      ],
      "execution_count": 4,
      "outputs": [
        {
          "output_type": "stream",
          "name": "stdout",
          "text": [
            "total airplane :  727\n",
            "total car :  968\n",
            "total cat :  885\n",
            "total flower :  843\n",
            "total fruit :  1000\n",
            "total motorbike :  788\n",
            "total person :  986\n"
          ]
        }
      ]
    },
    {
      "cell_type": "code",
      "metadata": {
        "id": "CLlZLR-OZAqT"
      },
      "source": [
        "train_datagen = ImageDataGenerator(\n",
        "    rescale=1./255,\n",
        "    rotation_range = 20,\n",
        "    horizontal_flip=True,\n",
        "    shear_range=0.2,\n",
        "    fill_mode ='nearest',\n",
        "    validation_split = 0.2\n",
        ")\n",
        "\n",
        "test_datagen = ImageDataGenerator(\n",
        "    rescale=1./255,\n",
        "    rotation_range = 20,\n",
        "    horizontal_flip=True,\n",
        "    shear_range=0.2,\n",
        "    fill_mode ='nearest',\n",
        "    validation_split = 0.2\n",
        ")"
      ],
      "execution_count": 5,
      "outputs": []
    },
    {
      "cell_type": "code",
      "metadata": {
        "colab": {
          "base_uri": "https://localhost:8080/"
        },
        "id": "vs_ngWSRZB1b",
        "outputId": "0a721bb3-f3d4-4921-c53c-fb90f8b9fc5e"
      },
      "source": [
        "\n",
        "seed = 1\n",
        "\n",
        "train_generator = train_datagen.flow_from_directory(\n",
        "    base_dir,\n",
        "    target_size=(150, 150), \n",
        "    shuffle = True,\n",
        "    subset='training',\n",
        "    class_mode = 'categorical',\n",
        "    seed=seed\n",
        ")\n",
        "\n",
        "validation_generator = test_datagen.flow_from_directory(\n",
        "    base_dir,\n",
        "    shuffle = True,\n",
        "    target_size=(150, 150), \n",
        "    subset = 'validation',\n",
        "    class_mode = 'categorical',\n",
        "    seed=seed\n",
        ")"
      ],
      "execution_count": 6,
      "outputs": [
        {
          "output_type": "stream",
          "name": "stdout",
          "text": [
            "Found 5522 images belonging to 8 classes.\n",
            "Found 1377 images belonging to 8 classes.\n"
          ]
        }
      ]
    },
    {
      "cell_type": "code",
      "metadata": {
        "id": "-Sg1c7V6ZEY4"
      },
      "source": [
        "model = tf.keras.models.Sequential([\n",
        "    tf.keras.layers.Conv2D(64, (3,3), activation='relu', input_shape=(150, 150, 3)),\n",
        "    tf.keras.layers.MaxPool2D(2, 2),\n",
        "    tf.keras.layers.Conv2D(128, (3,3), activation='relu'),\n",
        "    tf.keras.layers.MaxPooling2D(2, 2),\n",
        "    tf.keras.layers.Conv2D(256, (3,3), activation='relu'),\n",
        "    tf.keras.layers.MaxPooling2D(2, 2),\n",
        "    tf.keras.layers.Conv2D(256, (3,3), activation='relu'),\n",
        "    tf.keras.layers.MaxPooling2D(2, 2),\n",
        "    tf.keras.layers.Flatten(),\n",
        "    tf.keras.layers.Dense(128, activation='relu'),\n",
        "    tf.keras.layers.Dropout(0.2),\n",
        "    tf.keras.layers.Dense(8, activation='softmax'),\n",
        "])"
      ],
      "execution_count": 7,
      "outputs": []
    },
    {
      "cell_type": "code",
      "metadata": {
        "id": "64066LYDZGJg"
      },
      "source": [
        "model.compile(loss='categorical_crossentropy',\n",
        "              optimizer=tf.optimizers.Adam(),\n",
        "              metrics=['accuracy'])\n",
        "\n",
        "class myCallback(tf.keras.callbacks.Callback):\n",
        "  def on_epoch_end(self, epoch, logs={}):\n",
        "     if(logs.get('accuracy') > 0.80 and logs.get('val_accuracy') > 0.80):\n",
        "      print('\\n Akurasi telah mencapai > 80%')\n",
        "      self.model.stop_training = True\n",
        "callbacks = myCallback()"
      ],
      "execution_count": 8,
      "outputs": []
    },
    {
      "cell_type": "code",
      "metadata": {
        "colab": {
          "base_uri": "https://localhost:8080/"
        },
        "id": "fRfsEURFZJBJ",
        "outputId": "500d9f11-d491-4ae2-b726-62e020a38c10"
      },
      "source": [
        "hist = model.fit(\n",
        "      train_generator,\n",
        "      steps_per_epoch = 25, \n",
        "      epochs = 100,\n",
        "      validation_data = validation_generator,\n",
        "      validation_steps = 5,\n",
        "      batch_size=64,\n",
        "      callbacks=[callbacks],\n",
        "      verbose = 2)"
      ],
      "execution_count": 9,
      "outputs": [
        {
          "output_type": "stream",
          "name": "stdout",
          "text": [
            "Epoch 1/100\n",
            "25/25 - 117s - loss: 1.9995 - accuracy: 0.1975 - val_loss: 1.6852 - val_accuracy: 0.3812\n",
            "Epoch 2/100\n",
            "25/25 - 108s - loss: 1.5903 - accuracy: 0.3893 - val_loss: 1.3184 - val_accuracy: 0.5188\n",
            "Epoch 3/100\n",
            "25/25 - 111s - loss: 1.1616 - accuracy: 0.5800 - val_loss: 1.0116 - val_accuracy: 0.6812\n",
            "Epoch 4/100\n",
            "25/25 - 111s - loss: 0.8806 - accuracy: 0.6938 - val_loss: 0.6824 - val_accuracy: 0.7312\n",
            "Epoch 5/100\n",
            "25/25 - 110s - loss: 0.7065 - accuracy: 0.7550 - val_loss: 0.6974 - val_accuracy: 0.7563\n",
            "Epoch 6/100\n",
            "25/25 - 110s - loss: 0.6548 - accuracy: 0.7688 - val_loss: 0.9929 - val_accuracy: 0.6875\n",
            "Epoch 7/100\n",
            "25/25 - 110s - loss: 0.6560 - accuracy: 0.7675 - val_loss: 0.7030 - val_accuracy: 0.7688\n",
            "Epoch 8/100\n",
            "25/25 - 110s - loss: 0.6788 - accuracy: 0.7500 - val_loss: 0.4602 - val_accuracy: 0.8375\n",
            "Epoch 9/100\n",
            "25/25 - 109s - loss: 0.5612 - accuracy: 0.8138 - val_loss: 0.6776 - val_accuracy: 0.7250\n",
            "Epoch 10/100\n",
            "25/25 - 110s - loss: 0.5529 - accuracy: 0.7900 - val_loss: 0.5254 - val_accuracy: 0.7812\n",
            "Epoch 11/100\n",
            "25/25 - 109s - loss: 0.5432 - accuracy: 0.8225 - val_loss: 0.7255 - val_accuracy: 0.7437\n",
            "Epoch 12/100\n",
            "25/25 - 110s - loss: 0.6246 - accuracy: 0.7588 - val_loss: 0.6846 - val_accuracy: 0.8062\n",
            "Epoch 13/100\n",
            "25/25 - 109s - loss: 0.4896 - accuracy: 0.8350 - val_loss: 0.5736 - val_accuracy: 0.7688\n",
            "Epoch 14/100\n",
            "25/25 - 110s - loss: 0.4493 - accuracy: 0.8438 - val_loss: 0.4967 - val_accuracy: 0.8125\n",
            "\n",
            " Akurasi telah mencapai > 80%\n"
          ]
        }
      ]
    },
    {
      "cell_type": "code",
      "metadata": {
        "id": "qYS7ULJDZLEE",
        "colab": {
          "base_uri": "https://localhost:8080/",
          "height": 563
        },
        "outputId": "1c204652-ccf7-467c-91fa-cbd930ec3d36"
      },
      "source": [
        "plt.plot(hist.history['accuracy'])\n",
        "plt.plot(hist.history['val_accuracy'])\n",
        "plt.title('Model Accuracy')\n",
        "plt.ylabel('Accuracy')\n",
        "plt.xlabel('Epoch')\n",
        "plt.legend(['Train','Validation'], loc='bottom right')\n",
        "plt.show()"
      ],
      "execution_count": 10,
      "outputs": [
        {
          "output_type": "stream",
          "name": "stderr",
          "text": [
            "/usr/local/lib/python3.7/dist-packages/ipykernel_launcher.py:6: MatplotlibDeprecationWarning: Unrecognized location 'bottom right'. Falling back on 'best'; valid locations are\n",
            "\tbest\n",
            "\tupper right\n",
            "\tupper left\n",
            "\tlower left\n",
            "\tlower right\n",
            "\tright\n",
            "\tcenter left\n",
            "\tcenter right\n",
            "\tlower center\n",
            "\tupper center\n",
            "\tcenter\n",
            "This will raise an exception in 3.3.\n",
            "  \n"
          ]
        },
        {
          "output_type": "display_data",
          "data": {
            "image/png": "[encoded data removed]",
            "text/plain": [
              "<Figure size 432x288 with 1 Axes>"
            ]
          },
          "metadata": {
            "needs_background": "light"
          }
        }
      ]
    },
    {
      "cell_type": "code",
      "metadata": {
        "id": "Q7DqXbgXZMtI",
        "colab": {
          "base_uri": "https://localhost:8080/",
          "height": 294
        },
        "outputId": "ccce84f2-1ae4-46b0-bd8f-08258cebe12b"
      },
      "source": [
        "plt.plot(hist.history['loss'])\n",
        "plt.plot(hist.history['val_loss'])\n",
        "plt.title('Model loss')\n",
        "plt.ylabel('Loss')\n",
        "plt.xlabel('Epoch')\n",
        "plt.legend(['Train','Validation'], loc='upper right')\n",
        "plt.show()"
      ],
      "execution_count": 11,
      "outputs": [
        {
          "output_type": "display_data",
          "data": {
            "image/png": "[encoded data removed]",
            "text/plain": [
              "<Figure size 432x288 with 1 Axes>"
            ]
          },
          "metadata": {
            "needs_background": "light"
          }
        }
      ]
    },
    {
      "cell_type": "code",
      "metadata": {
        "id": "bUoVFdzWZOVq",
        "colab": {
          "base_uri": "https://localhost:8080/"
        },
        "outputId": "958ae92f-2191-4d3a-92c8-edca4a4d863a"
      },
      "source": [
        "converter = tf.lite.TFLiteConverter.from_keras_model(model)\n",
        "tflite_model = converter.convert()"
      ],
      "execution_count": 12,
      "outputs": [
        {
          "output_type": "stream",
          "name": "stdout",
          "text": [
            "INFO:tensorflow:Assets written to: /tmp/tmpdhf2us66/assets\n"
          ]
        }
      ]
    },
    {
      "cell_type": "code",
      "metadata": {
        "id": "eFG4K2LLZQQM"
      },
      "source": [
        "with tf.io.gfile.GFile('animal.tflite', 'wb') as f:\n",
        "  f.write(tflite_model)"
      ],
      "execution_count": 13,
      "outputs": []
    }
  ]
}